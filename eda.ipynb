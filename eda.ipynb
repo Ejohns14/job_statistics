{
 "cells": [
  {
   "cell_type": "code",
   "execution_count": null,
   "metadata": {},
   "outputs": [],
   "source": []
  }
 ],
 "metadata": {
  "kernelspec": {
   "display_name": "Python 3",
   "language": "python",
   "name": "python3"
  },
  "language_info": {
   "name": "python",
   "version": "3.10.7"
  },
  "orig_nbformat": 4,
  "vscode": {
   "interpreter": {
    "hash": "a20acef5fce1a6e8151891996d23ff986d4c9a9b369454443776246f5d30d362"
   }
  }
 },
 "nbformat": 4,
 "nbformat_minor": 2
}
