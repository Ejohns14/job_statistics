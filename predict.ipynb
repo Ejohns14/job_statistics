{
 "cells": [
  {
   "cell_type": "code",
   "execution_count": null,
   "metadata": {},
   "outputs": [],
   "source": [
    "from config import connection\n",
    "from sqlalchemy import create_engine, func\n",
    "from sqlalchemy.ext.automap import automap_base\n",
    "from sqlalchemy.orm import Session\n",
    "import pandas as pd\n",
    "import functools as ft\n",
    "\n",
    "\n",
    "engine = create_engine(connection)\n",
    "Base = automap_base()\n",
    "\n",
    "Base.prepare(engine, reflect = True)\n",
    "print(Base.classes.keys())\n",
    "\n",
    "jobs = Base.classes.jobs\n",
    "skills = Base.classes.skills\n",
    "salaries = Base.classes.salaries \n",
    "\n",
    "\n",
    "session = Session(engine)\n",
    "\n",
    "jobs_stmt = session.query(jobs)\n",
    "salaries_stmt = session.query(salaries)\n",
    "skills_stmt = session.query(skills)\n",
    "\n",
    "jobs_df = pd.read_sql( jobs_stmt.statement, con = engine)\n",
    "salaries_df = pd.read_sql( salaries_stmt.statement, con = engine)\n",
    "skills_df = pd.read_sql( skills_stmt.statement, con = engine)\n",
    "\n",
    "result1 = pd.merge(jobs_df, salaries_df, how = \"inner\", on = [\"id\"])\n",
    "result2 = pd.merge(result1, skills_df, how = \"inner\" ,on = [\"id\"])\n",
    "print(result2)"
   ]
  }
 ],
 "metadata": {
  "kernelspec": {
   "display_name": "Python 3",
   "language": "python",
   "name": "python3"
  },
  "language_info": {
   "name": "python",
   "version": "3.10.7"
  },
  "orig_nbformat": 4,
  "vscode": {
   "interpreter": {
    "hash": "a20acef5fce1a6e8151891996d23ff986d4c9a9b369454443776246f5d30d362"
   }
  }
 },
 "nbformat": 4,
 "nbformat_minor": 2
}
